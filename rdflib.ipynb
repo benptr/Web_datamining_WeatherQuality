{
 "cells": [
  {
   "cell_type": "code",
   "execution_count": 2,
   "metadata": {
    "colab": {
     "base_uri": "https://localhost:8080/"
    },
    "id": "vHH4kIWlg3Tx",
    "outputId": "7a1cae7e-ce21-43ca-ec16-f3f5c76ced2a"
   },
   "outputs": [
    {
     "name": "stdout",
     "output_type": "stream",
     "text": [
      "Requirement already satisfied: rdflib in c:\\users\\admin\\anaconda3\\lib\\site-packages (6.1.1)\n",
      "Requirement already satisfied: importlib-metadata; python_version < \"3.8.0\" in c:\\users\\admin\\anaconda3\\lib\\site-packages (from rdflib) (4.8.2)\n",
      "Requirement already satisfied: setuptools in c:\\users\\admin\\anaconda3\\lib\\site-packages (from rdflib) (41.4.0)\n",
      "Requirement already satisfied: isodate in c:\\users\\admin\\anaconda3\\lib\\site-packages (from rdflib) (0.6.1)\n",
      "Requirement already satisfied: pyparsing in c:\\users\\admin\\anaconda3\\lib\\site-packages (from rdflib) (2.4.2)\n",
      "Requirement already satisfied: zipp>=0.5 in c:\\users\\admin\\anaconda3\\lib\\site-packages (from importlib-metadata; python_version < \"3.8.0\"->rdflib) (0.6.0)\n",
      "Requirement already satisfied: typing-extensions>=3.6.4; python_version < \"3.8\" in c:\\users\\admin\\anaconda3\\lib\\site-packages (from importlib-metadata; python_version < \"3.8.0\"->rdflib) (4.0.0)\n",
      "Requirement already satisfied: six in c:\\users\\admin\\anaconda3\\lib\\site-packages (from isodate->rdflib) (1.12.0)\n",
      "Requirement already satisfied: more-itertools in c:\\users\\admin\\anaconda3\\lib\\site-packages (from zipp>=0.5->importlib-metadata; python_version < \"3.8.0\"->rdflib) (7.2.0)\n",
      "Note: you may need to restart the kernel to use updated packages.\n"
     ]
    }
   ],
   "source": [
    "pip install rdflib"
   ]
  },
  {
   "cell_type": "code",
   "execution_count": 47,
   "metadata": {
    "id": "H0MDKNa-gZbv"
   },
   "outputs": [],
   "source": [
    "#imports\n",
    "import numpy as np\n",
    "import pandas as pd\n",
    "import rdflib\n",
    "import json"
   ]
  },
  {
   "cell_type": "code",
   "execution_count": 48,
   "metadata": {},
   "outputs": [],
   "source": [
    "with open('dataFrance.json') as mon_fichier:\n",
    "    json_data = json.load(mon_fichier)"
   ]
  },
  {
   "cell_type": "code",
   "execution_count": 49,
   "metadata": {},
   "outputs": [
    {
     "data": {
      "text/plain": [
       "{'airQ': {'status': 'ok',\n",
       "  'data': {'aqi': 74,\n",
       "   'idx': 3823,\n",
       "   'attributions': [{'url': 'http://www.atmo-grandest.eu/',\n",
       "     'name': 'AtmoGE - La qualité de l&#8217;air dans le Grand Est',\n",
       "     'logo': 'France-atmo-grand-est.png'},\n",
       "    {'url': 'http://www.atmo-grandest.eu/',\n",
       "     'name': 'ASPA Alsace : pollution atmosphérique, surveillance de la qualité de l’air',\n",
       "     'logo': 'France-atmo-grand-est.png'},\n",
       "    {'url': 'https://waqi.info/', 'name': 'World Air Quality Index Project'}],\n",
       "   'city': {'geo': [47.757435, 7.347294],\n",
       "    'name': 'Nord, Mulhouse, Alsace, France',\n",
       "    'url': 'https://aqicn.org/city/france/alsace/mulhouse/nord'},\n",
       "   'dominentpol': 'pm25',\n",
       "   'iaqi': {'co': {'v': 0.1},\n",
       "    'h': {'v': 66.3},\n",
       "    'no2': {'v': 6.9},\n",
       "    'o3': {'v': 24},\n",
       "    'p': {'v': 1033.1},\n",
       "    'pm10': {'v': 27},\n",
       "    'pm25': {'v': 74},\n",
       "    'so2': {'v': 0.6},\n",
       "    't': {'v': 11.2},\n",
       "    'w': {'v': 10.3},\n",
       "    'wg': {'v': 22.3}},\n",
       "   'time': {'s': '2022-03-18 18:00:00',\n",
       "    'tz': '+01:00',\n",
       "    'v': 1647626400,\n",
       "    'iso': '2022-03-18T18:00:00+01:00'},\n",
       "   'forecast': {'daily': {'o3': [{'avg': 26,\n",
       "       'day': '2022-03-18',\n",
       "       'max': 36,\n",
       "       'min': 15},\n",
       "      {'avg': 28, 'day': '2022-03-19', 'max': 42, 'min': 23},\n",
       "      {'avg': 23, 'day': '2022-03-20', 'max': 41, 'min': 12},\n",
       "      {'avg': 23, 'day': '2022-03-21', 'max': 41, 'min': 10},\n",
       "      {'avg': 18, 'day': '2022-03-22', 'max': 18, 'min': 15}],\n",
       "     'pm10': [{'avg': 17, 'day': '2022-03-18', 'max': 19, 'min': 14},\n",
       "      {'avg': 22, 'day': '2022-03-19', 'max': 27, 'min': 16},\n",
       "      {'avg': 23, 'day': '2022-03-20', 'max': 29, 'min': 14},\n",
       "      {'avg': 26, 'day': '2022-03-21', 'max': 33, 'min': 20},\n",
       "      {'avg': 29, 'day': '2022-03-22', 'max': 30, 'min': 29}],\n",
       "     'pm25': [{'avg': 58, 'day': '2022-03-18', 'max': 61, 'min': 52},\n",
       "      {'avg': 67, 'day': '2022-03-19', 'max': 78, 'min': 53},\n",
       "      {'avg': 70, 'day': '2022-03-20', 'max': 84, 'min': 49},\n",
       "      {'avg': 77, 'day': '2022-03-21', 'max': 94, 'min': 61},\n",
       "      {'avg': 86, 'day': '2022-03-22', 'max': 88, 'min': 86}],\n",
       "     'uvi': [{'avg': 0, 'day': '2022-03-18', 'max': 2, 'min': 0},\n",
       "      {'avg': 1, 'day': '2022-03-19', 'max': 3, 'min': 0},\n",
       "      {'avg': 1, 'day': '2022-03-20', 'max': 3, 'min': 0},\n",
       "      {'avg': 1, 'day': '2022-03-21', 'max': 3, 'min': 0},\n",
       "      {'avg': 1, 'day': '2022-03-22', 'max': 3, 'min': 0},\n",
       "      {'avg': 0, 'day': '2022-03-23', 'max': 0, 'min': 0}]}},\n",
       "   'debug': {'sync': '2022-03-19T02:22:59+09:00'}}},\n",
       " 'weather': {'coord': {'lon': 7.337, 'lat': 47.8078},\n",
       "  'weather': [{'id': 804,\n",
       "    'main': 'Clouds',\n",
       "    'description': 'overcast clouds',\n",
       "    'icon': '04n'}],\n",
       "  'base': 'stations',\n",
       "  'main': {'temp': 284.22,\n",
       "   'feels_like': 283.18,\n",
       "   'temp_min': 283.72,\n",
       "   'temp_max': 285.62,\n",
       "   'pressure': 1033,\n",
       "   'humidity': 69,\n",
       "   'sea_level': 1033,\n",
       "   'grnd_level': 1005},\n",
       "  'visibility': 10000,\n",
       "  'wind': {'speed': 6.99, 'deg': 41, 'gust': 12.24},\n",
       "  'clouds': {'all': 88},\n",
       "  'dt': 1647625653,\n",
       "  'sys': {'type': 2,\n",
       "   'id': 2003289,\n",
       "   'country': 'FR',\n",
       "   'sunrise': 1647581889,\n",
       "   'sunset': 1647625165},\n",
       "  'timezone': 3600,\n",
       "  'id': 2967318,\n",
       "  'name': 'Wittenheim',\n",
       "  'cod': 200}}"
      ]
     },
     "execution_count": 49,
     "metadata": {},
     "output_type": "execute_result"
    }
   ],
   "source": [
    "json_data[\"Wittenheim\"]"
   ]
  },
  {
   "cell_type": "code",
   "execution_count": 45,
   "metadata": {},
   "outputs": [
    {
     "name": "stdout",
     "output_type": "stream",
     "text": [
      "{'airQ': {'status': 'ok', 'data': {'aqi': 74, 'idx': 3823, 'attributions': [{'url': 'http://www.atmo-grandest.eu/', 'name': 'AtmoGE - La qualité de l&#8217;air dans le Grand Est', 'logo': 'France-atmo-grand-est.png'}, {'url': 'http://www.atmo-grandest.eu/', 'name': 'ASPA Alsace : pollution atmosphérique, surveillance de la qualité de l’air', 'logo': 'France-atmo-grand-est.png'}, {'url': 'https://waqi.info/', 'name': 'World Air Quality Index Project'}], 'city': {'geo': [47.757435, 7.347294], 'name': 'Nord, Mulhouse, Alsace, France', 'url': 'https://aqicn.org/city/france/alsace/mulhouse/nord'}, 'dominentpol': 'pm25', 'iaqi': {'co': {'v': 0.1}, 'h': {'v': 66.3}, 'no2': {'v': 6.9}, 'o3': {'v': 24}, 'p': {'v': 1033.1}, 'pm10': {'v': 27}, 'pm25': {'v': 74}, 'so2': {'v': 0.6}, 't': {'v': 11.2}, 'w': {'v': 10.3}, 'wg': {'v': 22.3}}, 'time': {'s': '2022-03-18 18:00:00', 'tz': '+01:00', 'v': 1647626400, 'iso': '2022-03-18T18:00:00+01:00'}, 'forecast': {'daily': {'o3': [{'avg': 26, 'day': '2022-03-18', 'max': 36, 'min': 15}, {'avg': 28, 'day': '2022-03-19', 'max': 42, 'min': 23}, {'avg': 23, 'day': '2022-03-20', 'max': 41, 'min': 12}, {'avg': 23, 'day': '2022-03-21', 'max': 41, 'min': 10}, {'avg': 18, 'day': '2022-03-22', 'max': 18, 'min': 15}], 'pm10': [{'avg': 17, 'day': '2022-03-18', 'max': 19, 'min': 14}, {'avg': 22, 'day': '2022-03-19', 'max': 27, 'min': 16}, {'avg': 23, 'day': '2022-03-20', 'max': 29, 'min': 14}, {'avg': 26, 'day': '2022-03-21', 'max': 33, 'min': 20}, {'avg': 29, 'day': '2022-03-22', 'max': 30, 'min': 29}], 'pm25': [{'avg': 58, 'day': '2022-03-18', 'max': 61, 'min': 52}, {'avg': 67, 'day': '2022-03-19', 'max': 78, 'min': 53}, {'avg': 70, 'day': '2022-03-20', 'max': 84, 'min': 49}, {'avg': 77, 'day': '2022-03-21', 'max': 94, 'min': 61}, {'avg': 86, 'day': '2022-03-22', 'max': 88, 'min': 86}], 'uvi': [{'avg': 0, 'day': '2022-03-18', 'max': 2, 'min': 0}, {'avg': 1, 'day': '2022-03-19', 'max': 3, 'min': 0}, {'avg': 1, 'day': '2022-03-20', 'max': 3, 'min': 0}, {'avg': 1, 'day': '2022-03-21', 'max': 3, 'min': 0}, {'avg': 1, 'day': '2022-03-22', 'max': 3, 'min': 0}, {'avg': 0, 'day': '2022-03-23', 'max': 0, 'min': 0}]}}, 'debug': {'sync': '2022-03-19T02:22:59+09:00'}}}, 'weather': {'coord': {'lon': 7.337, 'lat': 47.8078}, 'weather': [{'id': 804, 'main': 'Clouds', 'description': 'overcast clouds', 'icon': '04n'}], 'base': 'stations', 'main': {'temp': 284.22, 'feels_like': 283.18, 'temp_min': 283.72, 'temp_max': 285.62, 'pressure': 1033, 'humidity': 69, 'sea_level': 1033, 'grnd_level': 1005}, 'visibility': 10000, 'wind': {'speed': 6.99, 'deg': 41, 'gust': 12.24}, 'clouds': {'all': 88}, 'dt': 1647625653, 'sys': {'type': 2, 'id': 2003289, 'country': 'FR', 'sunrise': 1647581889, 'sunset': 1647625165}, 'timezone': 3600, 'id': 2967318, 'name': 'Wittenheim', 'cod': 200}}\n"
     ]
    },
    {
     "ename": "KeyError",
     "evalue": "'name'",
     "output_type": "error",
     "traceback": [
      "\u001b[1;31m---------------------------------------------------------------------------\u001b[0m",
      "\u001b[1;31mKeyError\u001b[0m                                  Traceback (most recent call last)",
      "\u001b[1;32m<ipython-input-45-5ab41c90dbda>\u001b[0m in \u001b[0;36m<module>\u001b[1;34m\u001b[0m\n\u001b[0;32m     31\u001b[0m \u001b[1;33m\u001b[0m\u001b[0m\n\u001b[0;32m     32\u001b[0m     \u001b[0mlocation\u001b[0m\u001b[1;33m[\u001b[0m\u001b[1;34m'id'\u001b[0m\u001b[1;33m]\u001b[0m\u001b[1;33m=\u001b[0m\u001b[0m_id\u001b[0m\u001b[1;33m\u001b[0m\u001b[1;33m\u001b[0m\u001b[0m\n\u001b[1;32m---> 33\u001b[1;33m     \u001b[0mlocation\u001b[0m\u001b[1;33m[\u001b[0m\u001b[1;34m'city'\u001b[0m\u001b[1;33m]\u001b[0m\u001b[1;33m=\u001b[0m\u001b[0mjson_data\u001b[0m\u001b[1;33m[\u001b[0m\u001b[0mrow\u001b[0m\u001b[1;33m]\u001b[0m\u001b[1;33m[\u001b[0m\u001b[1;34m'weather'\u001b[0m\u001b[1;33m]\u001b[0m\u001b[1;33m[\u001b[0m\u001b[1;34m'name'\u001b[0m\u001b[1;33m]\u001b[0m\u001b[1;33m\u001b[0m\u001b[1;33m\u001b[0m\u001b[0m\n\u001b[0m\u001b[0;32m     34\u001b[0m \u001b[1;33m\u001b[0m\u001b[0m\n\u001b[0;32m     35\u001b[0m     \u001b[0mlocation\u001b[0m\u001b[1;33m[\u001b[0m\u001b[1;34m'longitude'\u001b[0m\u001b[1;33m]\u001b[0m\u001b[1;33m=\u001b[0m\u001b[0mjson_data\u001b[0m\u001b[1;33m[\u001b[0m\u001b[0mrow\u001b[0m\u001b[1;33m]\u001b[0m\u001b[1;33m[\u001b[0m\u001b[1;34m'weather'\u001b[0m\u001b[1;33m]\u001b[0m\u001b[1;33m[\u001b[0m\u001b[1;34m'coord'\u001b[0m\u001b[1;33m]\u001b[0m\u001b[1;33m[\u001b[0m\u001b[1;34m'lon'\u001b[0m\u001b[1;33m]\u001b[0m\u001b[1;33m\u001b[0m\u001b[1;33m\u001b[0m\u001b[0m\n",
      "\u001b[1;31mKeyError\u001b[0m: 'name'"
     ]
    }
   ],
   "source": [
    "airQ=dict()\n",
    "weather=dict()\n",
    "location=dict()\n",
    "\n",
    "airQ_list=[]\n",
    "weather_list=[]\n",
    "location_list=[]\n",
    "\n",
    "_id=1\n",
    "print(json_data['Wittenheim'])\n",
    "\n",
    "for row in json_data:\n",
    "    #we identify by an id\n",
    "       \n",
    "    #airQ class\n",
    "    airQ['id']=_id\n",
    "    airQ['status']=json_data[row]['airQ']['status']  \n",
    "    if(json_data[row]['airQ']['data'] == \"Unknown station\"):\n",
    "        airQ['aqi'] = None\n",
    "    else:\n",
    "        airQ['aqi'] = json_data[row]['airQ']['data']['aqi']   \n",
    "        airQ['time']= json_data[row]['airQ']['data']['time']['s']   \n",
    "    \n",
    "    #weather class\n",
    "    weather['id']=_id\n",
    "    #weather['main']=json_data[row]['weather']['weather']['main']   \n",
    "   \n",
    "    weather['temp']=int(json_data[row]['weather']['main']['temp'])-273.15\n",
    "    \n",
    "    #location class\n",
    "    \n",
    "    location['id']=_id\n",
    "    location['city']=json_data[row]['weather']['name']  \n",
    "\n",
    "    location['longitude']=json_data[row]['weather']['coord']['lon']\n",
    "    location['latitude']=json_data[row]['weather']['coord']['lat']\n",
    "\n",
    "    \n",
    "    airQ_list.append(airQ)\n",
    "    weather_list.append(weather)\n",
    "    location_list.append(location)\n",
    "    _id+=1\n",
    "\n",
    "print(airQ_list[0:10])\n",
    "print(weather_list[0:10])\n",
    "print(location_list[0:10])"
   ]
  },
  {
   "cell_type": "code",
   "execution_count": 53,
   "metadata": {},
   "outputs": [
    {
     "data": {
      "text/plain": [
       "str"
      ]
     },
     "execution_count": 53,
     "metadata": {},
     "output_type": "execute_result"
    }
   ],
   "source": [
    "type(json_data[\"Wittenheim\"]['airQ']['data']['time']['s'])"
   ]
  },
  {
   "cell_type": "code",
   "execution_count": null,
   "metadata": {},
   "outputs": [],
   "source": [
    "df_airQ = pd.DataFrame(airQ_list,columns=['id', 'status','aqi','time']) \n",
    "df_weather= pd.DataFrame(weather_list,columns=['id', 'main','temp']) \n",
    "df_location = pd.DataFrame(location_list,columns=['id', 'city','longitude','latitude']) "
   ]
  },
  {
   "cell_type": "code",
   "execution_count": null,
   "metadata": {},
   "outputs": [],
   "source": [
    "returnValue1 = df_airQ.to_csv('airQ.csv',index=None)\n",
    "print(returnValue1)\n",
    "\n",
    "returnValue2 = df_weather.to_csv('weather.csv',index=None)\n",
    "print(returnValue2)\n",
    "\n",
    "returnValue3 = df_location.to_csv('location.csv',index=None)\n",
    "print(returnValue3)\n"
   ]
  },
  {
   "cell_type": "code",
   "execution_count": 46,
   "metadata": {},
   "outputs": [
    {
     "data": {
      "text/plain": [
       "'Wittenheim'"
      ]
     },
     "execution_count": 46,
     "metadata": {},
     "output_type": "execute_result"
    }
   ],
   "source": [
    "json_data['Wittenheim']['weather']['name']"
   ]
  },
  {
   "cell_type": "code",
   "execution_count": 21,
   "metadata": {},
   "outputs": [
    {
     "data": {
      "text/plain": [
       "'ok'"
      ]
     },
     "execution_count": 21,
     "metadata": {},
     "output_type": "execute_result"
    }
   ],
   "source": [
    "airQ=data[\"Wittenheim\"][\"airQ\"]['status']\n",
    "airQ"
   ]
  }
 ],
 "metadata": {
  "colab": {
   "collapsed_sections": [],
   "name": "rdflib.ipynb",
   "provenance": []
  },
  "kernelspec": {
   "display_name": "Python 3",
   "language": "python",
   "name": "python3"
  },
  "language_info": {
   "codemirror_mode": {
    "name": "ipython",
    "version": 3
   },
   "file_extension": ".py",
   "mimetype": "text/x-python",
   "name": "python",
   "nbconvert_exporter": "python",
   "pygments_lexer": "ipython3",
   "version": "3.7.4"
  }
 },
 "nbformat": 4,
 "nbformat_minor": 1
}
